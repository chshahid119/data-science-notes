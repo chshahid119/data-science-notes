{
 "cells": [
  {
   "cell_type": "code",
   "execution_count": 2,
   "id": "bedc98fd",
   "metadata": {},
   "outputs": [
    {
     "data": {
      "text/plain": [
       "'\\n1) Numpy is a library that allows us to perform large-scale mathematical-scientific\\ncalculations efficiently, quickly and flexiblity.\\n\\n2) It is considered indispensable, especially for Data Science studies and includes related solutions.\\n\\nNUMPY Mainly used in DATA MNINING, MACHINE LEARNING, DATA ANALYSIS, COMPUTATIONAL STRUCTURES\\n'"
      ]
     },
     "execution_count": 2,
     "metadata": {},
     "output_type": "execute_result"
    }
   ],
   "source": [
    "# INTRODUCTION TO NUMPY LIBRARY \n",
    "'''\n",
    "1) Numpy is a library that allows us to perform large-scale mathematical-scientific\n",
    "calculations efficiently, quickly and flexiblity.\n",
    "\n",
    "2) It is considered indispensable, especially for Data Science studies and includes related solutions.\n",
    "\n",
    "NUMPY Mainly used in DATA MNINING, MACHINE LEARNING, DATA ANALYSIS, COMPUTATIONAL STRUCTURES\n",
    "'''\n"
   ]
  },
  {
   "cell_type": "code",
   "execution_count": 2,
   "id": "748af404",
   "metadata": {},
   "outputs": [
    {
     "data": {
      "text/plain": [
       "[0, 1, 2, 3, 4]"
      ]
     },
     "execution_count": 2,
     "metadata": {},
     "output_type": "execute_result"
    }
   ],
   "source": [
    "# THE POWER OF NUMPY\n",
    "list(range(0,5))"
   ]
  },
  {
   "cell_type": "code",
   "execution_count": 3,
   "id": "f62f133c",
   "metadata": {},
   "outputs": [],
   "source": [
    "import numpy as np"
   ]
  },
  {
   "cell_type": "code",
   "execution_count": 4,
   "id": "a47fb8f6",
   "metadata": {},
   "outputs": [],
   "source": [
    "x=np.array([1,3,5,7,9])"
   ]
  },
  {
   "cell_type": "code",
   "execution_count": 5,
   "id": "98b92cdd",
   "metadata": {},
   "outputs": [],
   "source": [
    "y=np.array([2,4,6,8,10])"
   ]
  },
  {
   "cell_type": "code",
   "execution_count": 6,
   "id": "9c9863f9",
   "metadata": {},
   "outputs": [
    {
     "data": {
      "text/plain": [
       "array([ 3,  7, 11, 15, 19])"
      ]
     },
     "execution_count": 6,
     "metadata": {},
     "output_type": "execute_result"
    }
   ],
   "source": [
    "x+y"
   ]
  },
  {
   "cell_type": "code",
   "execution_count": 7,
   "id": "4e7eefeb",
   "metadata": {},
   "outputs": [
    {
     "name": "stdout",
     "output_type": "stream",
     "text": [
      "<class 'numpy.ndarray'>\n"
     ]
    }
   ],
   "source": [
    "print(type(x))"
   ]
  },
  {
   "cell_type": "code",
   "execution_count": 8,
   "id": "0ee1f45e",
   "metadata": {},
   "outputs": [
    {
     "data": {
      "text/plain": [
       "array([ 2, 12, 30, 56, 90])"
      ]
     },
     "execution_count": 8,
     "metadata": {},
     "output_type": "execute_result"
    }
   ],
   "source": [
    "x*y"
   ]
  },
  {
   "cell_type": "code",
   "execution_count": 9,
   "id": "f798ed94",
   "metadata": {},
   "outputs": [],
   "source": [
    "array=np.array(['ali',2,2,4,5])"
   ]
  },
  {
   "cell_type": "code",
   "execution_count": 10,
   "id": "28fc0685",
   "metadata": {},
   "outputs": [
    {
     "data": {
      "text/plain": [
       "array(['ali', '2', '2', '4', '5'], dtype='<U11')"
      ]
     },
     "execution_count": 10,
     "metadata": {},
     "output_type": "execute_result"
    }
   ],
   "source": [
    "array"
   ]
  },
  {
   "cell_type": "code",
   "execution_count": 11,
   "id": "93ea4abf",
   "metadata": {},
   "outputs": [],
   "source": [
    "new_variable2=np.array([5.8,9,7,5],dtype=\"int\")"
   ]
  },
  {
   "cell_type": "code",
   "execution_count": 13,
   "id": "20451205",
   "metadata": {},
   "outputs": [
    {
     "data": {
      "text/plain": [
       "array([5, 9, 7, 5])"
      ]
     },
     "execution_count": 13,
     "metadata": {},
     "output_type": "execute_result"
    }
   ],
   "source": [
    "new_variable2"
   ]
  },
  {
   "cell_type": "code",
   "execution_count": 21,
   "id": "03bc8370",
   "metadata": {},
   "outputs": [
    {
     "data": {
      "text/plain": [
       "array([[0, 0, 0, 0, 0],\n",
       "       [0, 0, 0, 0, 0],\n",
       "       [0, 0, 0, 0, 0]])"
      ]
     },
     "execution_count": 21,
     "metadata": {},
     "output_type": "execute_result"
    }
   ],
   "source": [
    "# Create a numpy array with the zeros() function \n",
    "np.zeros((3,5),dtype=\"int\")"
   ]
  },
  {
   "cell_type": "code",
   "execution_count": 24,
   "id": "8c06d96b",
   "metadata": {},
   "outputs": [
    {
     "data": {
      "text/plain": [
       "array([[[1, 1, 1, 1, 1],\n",
       "        [1, 1, 1, 1, 1],\n",
       "        [1, 1, 1, 1, 1],\n",
       "        [1, 1, 1, 1, 1]],\n",
       "\n",
       "       [[1, 1, 1, 1, 1],\n",
       "        [1, 1, 1, 1, 1],\n",
       "        [1, 1, 1, 1, 1],\n",
       "        [1, 1, 1, 1, 1]],\n",
       "\n",
       "       [[1, 1, 1, 1, 1],\n",
       "        [1, 1, 1, 1, 1],\n",
       "        [1, 1, 1, 1, 1],\n",
       "        [1, 1, 1, 1, 1]]])"
      ]
     },
     "execution_count": 24,
     "metadata": {},
     "output_type": "execute_result"
    }
   ],
   "source": [
    "# Create a numpy array with the ones() function \n",
    "np.ones((3,4,5),dtype=\"int\")"
   ]
  },
  {
   "cell_type": "code",
   "execution_count": 27,
   "id": "720033b8",
   "metadata": {},
   "outputs": [
    {
     "data": {
      "text/plain": [
       "array([[2, 2, 2, 2, 2],\n",
       "       [2, 2, 2, 2, 2],\n",
       "       [2, 2, 2, 2, 2]])"
      ]
     },
     "execution_count": 27,
     "metadata": {},
     "output_type": "execute_result"
    }
   ],
   "source": [
    "# Create a numpy array with the full() function\n",
    "np.full((3,5),2,dtype=\"int\")"
   ]
  },
  {
   "cell_type": "code",
   "execution_count": 31,
   "id": "fbf87cab",
   "metadata": {},
   "outputs": [
    {
     "data": {
      "text/plain": [
       "array([ 1,  3,  5,  7,  9, 11, 13, 15, 17, 19])"
      ]
     },
     "execution_count": 31,
     "metadata": {},
     "output_type": "execute_result"
    }
   ],
   "source": [
    "# Create a numpy Array with the arange() function\n",
    "# syntax: arange(start,stop,step,dtype)\n",
    "np.arange(1,20,2,dtype=\"int\")"
   ]
  },
  {
   "cell_type": "code",
   "execution_count": 38,
   "id": "4df6f30f",
   "metadata": {},
   "outputs": [
    {
     "data": {
      "text/plain": [
       "array([[1., 0.],\n",
       "       [0., 1.],\n",
       "       [0., 0.]])"
      ]
     },
     "execution_count": 38,
     "metadata": {},
     "output_type": "execute_result"
    }
   ],
   "source": [
    "# Create a numpy Array with the Eye() function\n",
    "np.eye(3,2)"
   ]
  },
  {
   "cell_type": "code",
   "execution_count": 42,
   "id": "768b247f",
   "metadata": {},
   "outputs": [
    {
     "data": {
      "text/plain": [
       "array([[ True, False, False],\n",
       "       [False,  True, False],\n",
       "       [False, False,  True]])"
      ]
     },
     "execution_count": 42,
     "metadata": {},
     "output_type": "execute_result"
    }
   ],
   "source": [
    "np.eye(3,3,dtype=\"bool\")"
   ]
  },
  {
   "cell_type": "code",
   "execution_count": 50,
   "id": "4606d102",
   "metadata": {},
   "outputs": [
    {
     "data": {
      "text/plain": [
       "array([10.        , 12.22222222, 14.44444444, 16.66666667, 18.88888889,\n",
       "       21.11111111, 23.33333333, 25.55555556, 27.77777778, 30.        ])"
      ]
     },
     "execution_count": 50,
     "metadata": {},
     "output_type": "execute_result"
    }
   ],
   "source": [
    "# Create a numpy Array with the Linspace() function\n",
    "np.linspace(10,30,num=10)"
   ]
  },
  {
   "cell_type": "code",
   "execution_count": 55,
   "id": "dc5e6897",
   "metadata": {},
   "outputs": [
    {
     "data": {
      "text/plain": [
       "array([0.56025002, 0.87723095, 0.55500519, 0.53689835, 0.90956938])"
      ]
     },
     "execution_count": 55,
     "metadata": {},
     "output_type": "execute_result"
    }
   ],
   "source": [
    "# Create a numpy array using random function \n",
    "np.random.rand(5)"
   ]
  },
  {
   "cell_type": "code",
   "execution_count": 56,
   "id": "998aaeb9",
   "metadata": {},
   "outputs": [
    {
     "data": {
      "text/plain": [
       "array([[0.61104117, 0.48549225, 0.59645558],\n",
       "       [0.2910197 , 0.49687775, 0.63888137]])"
      ]
     },
     "execution_count": 56,
     "metadata": {},
     "output_type": "execute_result"
    }
   ],
   "source": [
    "np.random.rand(2,3)"
   ]
  },
  {
   "cell_type": "code",
   "execution_count": 54,
   "id": "5906b797",
   "metadata": {},
   "outputs": [
    {
     "data": {
      "text/plain": [
       "array([-1.33399283, -1.39744795, -2.10124336,  0.95946674,  0.20239351])"
      ]
     },
     "execution_count": 54,
     "metadata": {},
     "output_type": "execute_result"
    }
   ],
   "source": [
    "# Create a numpy array using random function \n",
    "np.random.randn(5)"
   ]
  },
  {
   "cell_type": "code",
   "execution_count": 58,
   "id": "7a05a455",
   "metadata": {},
   "outputs": [
    {
     "data": {
      "text/plain": [
       "array([[17.55142036, 22.59438902, 21.20136929],\n",
       "       [26.42327153,  9.68375859, 25.55961463],\n",
       "       [25.52269254, 26.90312514, 26.14515775],\n",
       "       [19.42085774, 15.37932363, 15.55880619]])"
      ]
     },
     "execution_count": 58,
     "metadata": {},
     "output_type": "execute_result"
    }
   ],
   "source": [
    "# parameters(mean,standard deviation, (tupple of rows and cols))\n",
    "np.random.normal(20,5,(4,3))"
   ]
  },
  {
   "cell_type": "code",
   "execution_count": 69,
   "id": "c7d99f1b",
   "metadata": {},
   "outputs": [
    {
     "data": {
      "text/plain": [
       "array([[1, 9, 3, 3],\n",
       "       [6, 8, 8, 3],\n",
       "       [8, 8, 9, 3],\n",
       "       [0, 0, 7, 2]])"
      ]
     },
     "execution_count": 69,
     "metadata": {},
     "output_type": "execute_result"
    }
   ],
   "source": [
    "np.random.randint(0,10,(4,4))"
   ]
  },
  {
   "cell_type": "code",
   "execution_count": 67,
   "id": "5f7ab22a",
   "metadata": {},
   "outputs": [],
   "source": [
    "# Properties of NumpyArray \n",
    "# ndim:- it gives us information about the number of the sizr of the array .\n",
    "# shape:- Shape function allows us to learn the size of the information of the array.\n",
    "# size:- This function gives us the total number of elements of the array.\n",
    "# dtype:- This function return the data type of the NumPy array. "
   ]
  },
  {
   "cell_type": "code",
   "execution_count": 68,
   "id": "4fb2f128",
   "metadata": {},
   "outputs": [
    {
     "data": {
      "text/plain": [
       "44"
      ]
     },
     "execution_count": 68,
     "metadata": {},
     "output_type": "execute_result"
    }
   ],
   "source": []
  },
  {
   "cell_type": "code",
   "execution_count": null,
   "id": "08f087ca",
   "metadata": {},
   "outputs": [],
   "source": []
  },
  {
   "cell_type": "code",
   "execution_count": null,
   "id": "e43706a5",
   "metadata": {},
   "outputs": [],
   "source": []
  }
 ],
 "metadata": {
  "kernelspec": {
   "display_name": "Python 3 (ipykernel)",
   "language": "python",
   "name": "python3"
  },
  "language_info": {
   "codemirror_mode": {
    "name": "ipython",
    "version": 3
   },
   "file_extension": ".py",
   "mimetype": "text/x-python",
   "name": "python",
   "nbconvert_exporter": "python",
   "pygments_lexer": "ipython3",
   "version": "3.11.4"
  }
 },
 "nbformat": 4,
 "nbformat_minor": 5
}
